{
 "cells": [
  {
   "cell_type": "code",
   "execution_count": 1,
   "metadata": {},
   "outputs": [],
   "source": [
    "# Importing necessary libraries\n",
    "import pandas as pd  # Importing pandas to work with DataFrames\n",
    "from sklearn.impute import SimpleImputer  # Importing SimpleImputer to handle missing data\n"
   ]
  },
  {
   "cell_type": "code",
   "execution_count": 2,
   "metadata": {},
   "outputs": [],
   "source": [
    "# Example DataFrame with missing values\n",
    "data = {'Age': [25, None, 30, 22, None], 'Salary': [50000, 60000, None, 40000, 35000]}\n",
    "# Creating a dictionary with 'Age' and 'Salary' columns, where 'None' represents missing values\n"
   ]
  },
  {
   "cell_type": "code",
   "execution_count": 3,
   "metadata": {},
   "outputs": [
    {
     "name": "stdout",
     "output_type": "stream",
     "text": [
      "    Age   Salary\n",
      "0  25.0  50000.0\n",
      "1   NaN  60000.0\n",
      "2  30.0      NaN\n",
      "3  22.0  40000.0\n",
      "4   NaN  35000.0\n"
     ]
    }
   ],
   "source": [
    "df = pd.DataFrame(data)  # Converting the dictionary into a pandas DataFrame\n",
    "print(df)  # Printing the original DataFrame with missing values\n"
   ]
  },
  {
   "cell_type": "code",
   "execution_count": 4,
   "metadata": {},
   "outputs": [],
   "source": [
    "# Handling missing values by filling with the mean\n",
    "imputer = SimpleImputer(strategy='mean')  # Initializing the SimpleImputer to fill missing values with the mean\n",
    "# The strategy='mean' argument specifies that missing values will be replaced by the column mean\n"
   ]
  },
  {
   "cell_type": "code",
   "execution_count": 5,
   "metadata": {},
   "outputs": [],
   "source": [
    "df['Age'] = imputer.fit_transform(df[['Age']])  # Applying the imputer to the 'Age' column and updating it with the filled values\n",
    "# fit_transform() computes the mean and replaces missing values in the 'Age' column with that mean\n",
    "\n"
   ]
  },
  {
   "cell_type": "code",
   "execution_count": 6,
   "metadata": {},
   "outputs": [],
   "source": [
    "df['Salary'] = imputer.fit_transform(df[['Salary']])  # Similarly, applying the imputer to the 'Salary' column\n",
    "# The missing values in the 'Salary' column are replaced by the computed mean\n"
   ]
  },
  {
   "cell_type": "code",
   "execution_count": 7,
   "metadata": {},
   "outputs": [
    {
     "name": "stdout",
     "output_type": "stream",
     "text": [
      "         Age   Salary\n",
      "0  25.000000  50000.0\n",
      "1  25.666667  60000.0\n",
      "2  30.000000  46250.0\n",
      "3  22.000000  40000.0\n",
      "4  25.666667  35000.0\n"
     ]
    }
   ],
   "source": [
    "print(df)  # Printing the updated DataFrame with missing values filled\n"
   ]
  }
 ],
 "metadata": {
  "kernelspec": {
   "display_name": "env",
   "language": "python",
   "name": "python3"
  },
  "language_info": {
   "codemirror_mode": {
    "name": "ipython",
    "version": 3
   },
   "file_extension": ".py",
   "mimetype": "text/x-python",
   "name": "python",
   "nbconvert_exporter": "python",
   "pygments_lexer": "ipython3",
   "version": "3.11.9"
  }
 },
 "nbformat": 4,
 "nbformat_minor": 2
}
